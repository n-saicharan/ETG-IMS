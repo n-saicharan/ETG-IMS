{
  "nbformat": 4,
  "nbformat_minor": 0,
  "metadata": {
    "colab": {
      "name": "ETG IMS.ipynb",
      "provenance": [],
      "collapsed_sections": []
    },
    "kernelspec": {
      "name": "python3",
      "display_name": "Python 3"
    },
    "language_info": {
      "name": "python"
    }
  },
  "cells": [
    {
      "cell_type": "markdown",
      "metadata": {
        "id": "M72rk7RWloeT"
      },
      "source": [
        "# INVENTORY MANAGEMENT SYSTEM\n"
      ]
    },
    {
      "cell_type": "markdown",
      "metadata": {
        "id": "xjUx_riJ6e1f"
      },
      "source": [
        "###Reading the json files records.json and sales.json"
      ]
    },
    {
      "cell_type": "code",
      "metadata": {
        "id": "zK0fFx8rlyNQ"
      },
      "source": [
        "#This section of code reads the contents in the records.json file and stores into dictionary records\n",
        "\n",
        "import json \n",
        "import time  \n",
        "\n",
        "file = open(\"records.json\",\"r\")     #Reading records.json\n",
        "txt = file.read()\n",
        "file.close()\n",
        "records = json.loads(txt)\n",
        "\n",
        "file = open(\"sales.json\",'r')   #Reading sales.json\n",
        "txt = file.read()\n",
        "file.close()\n",
        "txns = json.loads(txt)\n",
        "\n",
        "txnid = []\n",
        "for i in txns.keys() :\n",
        "  txnid.append(int(i))\n",
        "txnid = max(txnid)\n"
      ],
      "execution_count": null,
      "outputs": []
    },
    {
      "cell_type": "markdown",
      "metadata": {
        "id": "mWQDOhE-6Ob6"
      },
      "source": [
        "###Display records dictionary "
      ]
    },
    {
      "cell_type": "code",
      "metadata": {
        "colab": {
          "base_uri": "https://localhost:8080/"
        },
        "id": "Jk1JP_HOnwyI",
        "outputId": "6f08ccd1-bcc8-4b66-e8a3-96803ae1e2f3"
      },
      "source": [
        "#This section prints the items in records\n",
        "\n",
        "print(f'{\"ID\":<6}',f'{\"NAME\":<20}',f'{\"PRICE(Rs)\":<10}',f'{\"QUANTITY\":<9}')\n",
        "for i in range(48) : print(\"-\",end = \"\")\n",
        "print()\n",
        "for i in records.keys() :\n",
        "  name = records[i]['name']\n",
        "  pr = records[i]['pr']\n",
        "  qn = records[i]['qn']\n",
        "  print(f'{i:<6}',f'{name:<20}',f'{pr:<10}',f'{qn:<9}')"
      ],
      "execution_count": null,
      "outputs": [
        {
          "output_type": "stream",
          "name": "stdout",
          "text": [
            "ID     NAME                 PRICE(Rs)  QUANTITY \n",
            "------------------------------------------------\n",
            "1001   Choco Cake           100        25       \n",
            "1002   Milk Cake            800        100      \n",
            "1003   Drink                85         150      \n",
            "1004   Candy                5          450      \n",
            "1005   Pen                  20         198      \n",
            "1006   Phone                50000      9        \n",
            "1007   Mic                  1500       48       \n",
            "1008   Case                 599        5        \n",
            "1009   Keyboard             1999       10       \n",
            "1010   Laptop               50000      49       \n",
            "1011   Trimmer              560        70       \n",
            "1012   Notebook             30         197      \n",
            "1013   Bag                  300        40       \n",
            "1014   Shoe                 700        99       \n",
            "1015   Earphones            400        48       \n",
            "1016   Camera               2000       80       \n",
            "1017   Mattress             900        75       \n",
            "1018   Chair                470        88       \n",
            "1019   TV                   39999      20       \n",
            "1020   AC                   15999      31       \n",
            "1021   Microwave            7999       49       \n",
            "1022   Refrigerator         26999      160      \n",
            "1023   Washing Machine      15999      30       \n",
            "1024   Helmet               599        79       \n",
            "1025   Car cover            799        199      \n",
            "1026   Bike cover           599        200      \n",
            "1027   Vacuum cleaner       23999      60       \n",
            "1028   Perfume              759        250      \n",
            "1029   Painting kit         300        280      \n",
            "1030   Bottle               70         500      \n",
            "1031   Soap                 40         300      \n",
            "1032   Towel                70         197      \n",
            "1033   Mouse                400        120      \n",
            "1034   Pillow               200        300      \n",
            "1035   Slippers             250        300      \n"
          ]
        }
      ]
    },
    {
      "cell_type": "markdown",
      "metadata": {
        "id": "HsucP2Stga_i"
      },
      "source": [
        "###Display the transactions"
      ]
    },
    {
      "cell_type": "code",
      "metadata": {
        "colab": {
          "base_uri": "https://localhost:8080/"
        },
        "id": "-wIrd44DgkTh",
        "outputId": "28b1075b-f61b-496a-eb66-7bf8ab260595"
      },
      "source": [
        "# txnid :{pdtid,name,pr,qn,fn} \n",
        "print(f'{\"TRANSACTION_ID\":18}',f'{\"ID\":<6}',f'{\"NAME\":<20}',f'{\"PRICE(Rs)\":<10}',f'{\"QUANTITY\":<9}',f'{\"FUNCTION\":<13}',f'{\"DATE AND TIME\"}')\n",
        "for i in range(110) : print(\"-\",end = \"\")\n",
        "print()\n",
        "for i in txns.keys() :\n",
        "  pdtid = txns[i]['pdtid']\n",
        "  name = txns[i]['name']\n",
        "  pr = txns[i]['pr']\n",
        "  qn = txns[i]['qn']\n",
        "  fn = txns[i]['fn']\n",
        "  ti=txns[i]['ti']\n",
        "  print(f'{i:<18}',f'{pdtid:<6}',f'{name:<20}',f'{pr:<10}',f'{qn:<9}',f'{fn:<13}',f'{ti:<30}')\n"
      ],
      "execution_count": null,
      "outputs": [
        {
          "output_type": "stream",
          "name": "stdout",
          "text": [
            "TRANSACTION_ID     ID     NAME                 PRICE(Rs)  QUANTITY  FUNCTION      DATE AND TIME\n",
            "--------------------------------------------------------------------------------------------------------------\n",
            "1                  1001   Choco Cake           100        5         PURCHASED     Sun Sep  5 17:00:32 2021      \n",
            "2                  1003   Drink                85         150       ADDED         Sun Sep  5 17:01:11 2021      \n",
            "3                  1031   Soap                 40         300       NEW           Sun Sep  5 17:02:01 2021      \n",
            "4                  1032   Towel                70         200       NEW           Sun Sep  5 17:02:24 2021      \n",
            "5                  1005   Pen                  20         200       ADDED         Sun Sep  5 17:03:10 2021      \n",
            "6                  1005   Pen                  20         2         PURCHASED     Sun Sep  5 17:03:25 2021      \n",
            "7                  1033   Mouse                400        100       NEW           Sun Sep  5 17:18:01 2021      \n",
            "8                  1033   Mouse                400        120       ADDED         Sun Sep  5 17:18:35 2021      \n",
            "9                  1014   Shoe                 700        1         PURCHASED     Sun Sep  5 17:19:06 2021      \n",
            "10                 1034   Pillow               200        300       NEW           Sun Sep  5 17:20:13 2021      \n",
            "11                 1035   Slippers             250        300       NEW           Sun Sep  5 17:20:39 2021      \n",
            "12                 1029   Painting kit         300        0         REMOVED       Sun Sep  5 17:21:05 2021      \n",
            "13                 1021   Microwave            7999       1         PURCHASED     Sun Sep  5 17:21:44 2021      \n",
            "14                 1025   Car cover            799        1         PURCHASED     Sun Sep  5 17:22:16 2021      \n",
            "15                 1029   Painting kit         300        280       ADDED         Sun Sep  5 17:23:07 2021      \n",
            "16                 1032   Towel                70         3         PURCHASED     Sun Sep  5 17:25:46 2021      \n",
            "17                 1036   Shampoo              120        150       NEW           Mon Sep  6 04:06:35 2021      \n",
            "18                 1026   Bike cover           599        250       ADDED         Mon Sep  6 04:08:30 2021      \n"
          ]
        }
      ]
    },
    {
      "cell_type": "markdown",
      "metadata": {
        "id": "K9f9NrDCqPoI"
      },
      "source": [
        "###Adding new products to the records"
      ]
    },
    {
      "cell_type": "code",
      "metadata": {
        "colab": {
          "base_uri": "https://localhost:8080/"
        },
        "id": "xRUu-VFBo_Rs",
        "outputId": "24ccba41-11d3-4969-b5b3-c371694dbd72"
      },
      "source": [
        "#This section adds new product to the product details\n",
        "\n",
        "pdtid = input(\"Enter the product id : \")\n",
        "name = input(\"Enter the product name : \")\n",
        "pr = int(input(\"Enter the product price : \"))\n",
        "qn = int(input(\"Enter the quantity of the product : \"))\n",
        "records[pdtid] = {'name':name,'pr':pr,'qn':qn}\n",
        "print(\"PRODUCT ADDED\") \n",
        "\n",
        "txnid = txnid +1     #Updating txns\n",
        "ti = time.ctime()\n",
        "txns[txnid] = {'pdtid':pdtid,'name':name,'pr':pr,'qn':qn,'fn':\"NEW\",'ti':ti}"
      ],
      "execution_count": null,
      "outputs": [
        {
          "output_type": "stream",
          "name": "stdout",
          "text": [
            "Enter the product id : 1036\n",
            "Enter the product name : Shampoo\n",
            "Enter the product price : 120\n",
            "Enter the quantity of the product : 150\n",
            "PRODUCT ADDED\n"
          ]
        }
      ]
    },
    {
      "cell_type": "markdown",
      "metadata": {
        "id": "xMXC4yYYqgX0"
      },
      "source": [
        "###This section is used to add existing products"
      ]
    },
    {
      "cell_type": "code",
      "metadata": {
        "colab": {
          "base_uri": "https://localhost:8080/"
        },
        "id": "oD92AanZqnRs",
        "outputId": "01ec883a-ff3a-46da-8b85-ee6d2f76349f"
      },
      "source": [
        "pdtid = input(\"Enter the product id : \")\n",
        "name = records[pdtid]['name']\n",
        "print(\"Product name : \",name)\n",
        "pr = records[pdtid]['pr']\n",
        "print(\"Product price : \",pr)\n",
        "qn = records[pdtid]['qn']\n",
        "print(\"Available product quantity : \",qn)\n",
        "qt = int(input(\"Enter the quantity to be added : \"))\n",
        "qn = qt + qn\n",
        "records[pdtid] = {'name':name,'pr':pr ,'qn':qn}\n",
        "print(\"PRODUCT ADDED\") \n",
        "\n",
        "\n",
        "txnid = txnid +1     #Updating txns\n",
        "ti = time.ctime()\n",
        "txns[txnid] = {'pdtid':pdtid,'name':name,'pr':pr,'qn':qn,'fn':\"ADDED\",'ti':ti}"
      ],
      "execution_count": null,
      "outputs": [
        {
          "output_type": "stream",
          "name": "stdout",
          "text": [
            "Enter the product id : 1026\n",
            "Product name :  Bike cover\n",
            "Product price :  599\n",
            "Available product quantity :  200\n",
            "Enter the quantity to be added : 50\n",
            "PRODUCT ADDED\n"
          ]
        }
      ]
    },
    {
      "cell_type": "markdown",
      "metadata": {
        "id": "8FMmkUN-qb-2"
      },
      "source": [
        "###Removing a product"
      ]
    },
    {
      "cell_type": "code",
      "metadata": {
        "id": "TS-X6QchqgoX",
        "colab": {
          "base_uri": "https://localhost:8080/"
        },
        "outputId": "88e04c36-5224-4e12-ae8e-ed8781cadbab"
      },
      "source": [
        "#Removing a product makes its quantity 0\n",
        "\n",
        "pdtid = input(\"Enter the product id : \")\n",
        "records[pdtid]['qn'] = 0\n",
        "print(\"Product quantity made 0\")\n",
        "\n",
        "#Updating txns \n",
        "txnid = txnid +1\n",
        "ti = time.ctime()\n",
        "name = records[pdtid]['name']\n",
        "pr = records[pdtid]['pr']\n",
        "qn = records[pdtid]['qn']\n",
        "txns[txnid] = {'pdtid':pdtid,'name':name,'pr':pr,'qn':qn,'fn':\"REMOVED\",'ti':ti}"
      ],
      "execution_count": null,
      "outputs": [
        {
          "name": "stdout",
          "output_type": "stream",
          "text": [
            "Enter the product id : 1029\n"
          ]
        }
      ]
    },
    {
      "cell_type": "markdown",
      "metadata": {
        "id": "-Uul0Kfxqho7"
      },
      "source": [
        "###Purchase of a product"
      ]
    },
    {
      "cell_type": "code",
      "metadata": {
        "id": "5kV4NZwcqlr_",
        "colab": {
          "base_uri": "https://localhost:8080/"
        },
        "outputId": "3ee6c09f-9f07-4378-91f5-cb4e042aefe0"
      },
      "source": [
        "pdtid = input(\"Enter the product id : \")\n",
        "print(f'{\"Product name\":<13}',': ',records[pdtid]['name'])\n",
        "print(f'{\"Price\":<13}',': ',records[pdtid]['pr'])\n",
        "print(f'{\"Quantity\":<13}',': ',records[pdtid]['qn'])\n",
        "qt =int(input(\"Enter quantity to be purchased : \"))\n",
        "if(qt > records[pdtid]['qn']) : print (\"Note : Excess quantity entered\\nQuantity available : \",records[i]['qn'])\n",
        "else :\n",
        "  print(\"Bill(Rs) : \",records[pdtid]['pr']*qt)\n",
        "  print(\"Product successfully purchased\")\n",
        "  records[pdtid]['qn'] = records[pdtid]['qn'] - qt\n",
        "  txnid = txnid +1         #Updating txns\n",
        "  ti = time.ctime()\n",
        "  name = records[pdtid]['name']\n",
        "  pr = records[pdtid]['pr']\n",
        "  qn = records[pdtid]['qn']\n",
        "  txns[txnid] = {'pdtid':pdtid,'name':name,'pr':pr,'qn':qt,'fn':\"PURCHASED\",'ti':ti}"
      ],
      "execution_count": null,
      "outputs": [
        {
          "output_type": "stream",
          "name": "stdout",
          "text": [
            "Enter the product id : 1032\n",
            "Product name  :  Towel\n",
            "Price         :  70\n",
            "Quantity      :  200\n",
            "Enter quantity to be purchased : 3\n",
            "Bill(Rs) :  210\n",
            "Product successfully purchased\n"
          ]
        }
      ]
    },
    {
      "cell_type": "markdown",
      "metadata": {
        "id": "BFq9V7y0qrhZ"
      },
      "source": [
        "###Writing the json files records.json and sales.json"
      ]
    },
    {
      "cell_type": "code",
      "metadata": {
        "id": "w7FfdhjUqwSp"
      },
      "source": [
        "file = open (\"records.json\",'w')    #writing records.json\n",
        "txt = json.dumps(records)\n",
        "file.write(txt)\n",
        "file.close()\n",
        "\n",
        "\n",
        "file = open (\"sales.json\",'w')    #writing sales.json\n",
        "txt = json.dumps(txns)\n",
        "file.write(txt)\n",
        "file.close()"
      ],
      "execution_count": null,
      "outputs": []
    },
    {
      "cell_type": "markdown",
      "metadata": {
        "id": "V0QZjvMkcnqz"
      },
      "source": [
        "###Product deletion"
      ]
    },
    {
      "cell_type": "code",
      "metadata": {
        "colab": {
          "base_uri": "https://localhost:8080/"
        },
        "id": "goo39CYjc9AM",
        "outputId": "485c62ed-4946-4107-d993-f4e48a2c885f"
      },
      "source": [
        "###This section is used only to delete the product along with product id if any mistake is made while entering the product id\n",
        "\n",
        "wrongid = input(\"Enter the incorrectly typed id : \")\n",
        "if wrongid in records.keys() :\n",
        "  del records[wrongid]\n",
        "  print(\"ID DELETED\")\n",
        "else :\n",
        "  print(\"***THIS INCORRECT ID HAS NOT BEEN ENTERED***\")"
      ],
      "execution_count": null,
      "outputs": [
        {
          "output_type": "stream",
          "name": "stdout",
          "text": [
            "Enter the incorrectly typed id : 3\n",
            "***THIS INCORRECT ID HAS NOT BEEN ENTERED***\n"
          ]
        }
      ]
    },
    {
      "cell_type": "markdown",
      "metadata": {
        "id": "djvPQqtL55YC"
      },
      "source": [
        "#Program ends here"
      ]
    },
    {
      "cell_type": "code",
      "metadata": {
        "id": "fWxwBX1jRQ5-"
      },
      "source": [
        ""
      ],
      "execution_count": null,
      "outputs": []
    }
  ]
}